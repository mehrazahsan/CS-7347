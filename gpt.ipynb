{
 "cells": [
  {
   "cell_type": "markdown",
   "metadata": {},
   "source": [
    "## GPT -- Text Summarization"
   ]
  },
  {
   "cell_type": "code",
   "execution_count": 3,
   "metadata": {},
   "outputs": [
    {
     "ename": "ImportError",
     "evalue": "cannot import name 'pipeline' from 'transformers' (/Users/cartermondy/Library/Python/3.9/lib/python/site-packages/transformers/__init__.py)",
     "output_type": "error",
     "traceback": [
      "\u001b[0;31m---------------------------------------------------------------------------\u001b[0m",
      "\u001b[0;31mImportError\u001b[0m                               Traceback (most recent call last)",
      "Cell \u001b[0;32mIn[3], line 2\u001b[0m\n\u001b[1;32m      1\u001b[0m \u001b[38;5;66;03m# Import modules\u001b[39;00m\n\u001b[0;32m----> 2\u001b[0m \u001b[38;5;28;01mfrom\u001b[39;00m \u001b[38;5;21;01mtransformers\u001b[39;00m \u001b[38;5;28;01mimport\u001b[39;00m pipeline, GPT2Tokenizer, GPT2LMHeadModel\n\u001b[1;32m      3\u001b[0m \u001b[38;5;28;01mfrom\u001b[39;00m \u001b[38;5;21;01mdatasets\u001b[39;00m \u001b[38;5;28;01mimport\u001b[39;00m load_dataset\n\u001b[1;32m      4\u001b[0m \u001b[38;5;28;01mfrom\u001b[39;00m \u001b[38;5;21;01msumy\u001b[39;00m\u001b[38;5;21;01m.\u001b[39;00m\u001b[38;5;21;01mparsers\u001b[39;00m\u001b[38;5;21;01m.\u001b[39;00m\u001b[38;5;21;01mplaintext\u001b[39;00m \u001b[38;5;28;01mimport\u001b[39;00m PlaintextParser\n",
      "\u001b[0;31mImportError\u001b[0m: cannot import name 'pipeline' from 'transformers' (/Users/cartermondy/Library/Python/3.9/lib/python/site-packages/transformers/__init__.py)"
     ]
    }
   ],
   "source": [
    "# Import modules\n",
    "from transformers import pipeline, GPT2Tokenizer, GPT2LMHeadModel\n",
    "from datasets import load_dataset\n",
    "from sumy.parsers.plaintext import PlaintextParser\n",
    "from sumy.nlp.tokenizers import Tokenizer\n",
    "from sumy.summarizers.lex_rank import LexRankSummarizer\n",
    "import pandas as pd\n",
    "from rouge_score import rouge_scorer"
   ]
  },
  {
   "cell_type": "code",
   "execution_count": 2,
   "metadata": {},
   "outputs": [
    {
     "name": "stderr",
     "output_type": "stream",
     "text": [
      "Generating train split: 100%|██████████| 287113/287113 [00:02<00:00, 129382.58 examples/s]\n",
      "Generating validation split: 100%|██████████| 13368/13368 [00:00<00:00, 140180.65 examples/s]\n",
      "Generating test split: 100%|██████████| 11490/11490 [00:00<00:00, 141722.79 examples/s]\n"
     ]
    },
    {
     "data": {
      "text/plain": [
       "DatasetDict({\n",
       "    train: Dataset({\n",
       "        features: ['article', 'highlights', 'id'],\n",
       "        num_rows: 287113\n",
       "    })\n",
       "    validation: Dataset({\n",
       "        features: ['article', 'highlights', 'id'],\n",
       "        num_rows: 13368\n",
       "    })\n",
       "    test: Dataset({\n",
       "        features: ['article', 'highlights', 'id'],\n",
       "        num_rows: 11490\n",
       "    })\n",
       "})"
      ]
     },
     "execution_count": 2,
     "metadata": {},
     "output_type": "execute_result"
    }
   ],
   "source": [
    "# Import dataset \n",
    "dataset = load_dataset(\"cnn_dailymail\", \"3.0.0\")\n",
    "dataset"
   ]
  },
  {
   "cell_type": "code",
   "execution_count": 4,
   "metadata": {},
   "outputs": [
    {
     "name": "stdout",
     "output_type": "stream",
     "text": [
      "                                             article  ...                                        id\n",
      "0  LONDON, England (Reuters) -- Harry Potter star...  ...  42c027e4ff9730fbb3de84c1af0d2c506e41c3e4\n",
      "1  Editor's note: In our Behind the Scenes series...  ...  ee8871b15c50d0db17b0179a6d2beab35065f1e9\n",
      "2  MINNEAPOLIS, Minnesota (CNN) -- Drivers who we...  ...  06352019a19ae31e527f37f7571c6dd7f0c5da37\n",
      "3  WASHINGTON (CNN) -- Doctors removed five small...  ...  24521a2abb2e1f5e34e6824e0f9e56904a2b0e88\n",
      "4  (CNN)  -- The National Football League has ind...  ...  7fe70cc8b12fab2d0a258fababf7d9c6b5e1262a\n",
      "\n",
      "[5 rows x 3 columns]\n"
     ]
    }
   ],
   "source": [
    "print(dataset['train'].to_pandas().head())"
   ]
  },
  {
   "cell_type": "code",
   "execution_count": 5,
   "metadata": {},
   "outputs": [
    {
     "name": "stdout",
     "output_type": "stream",
     "text": [
      "Original Text: LONDON, England (Reuters) -- Harry Potter star Daniel Radcliffe gains access to a reported £20 million ($41.1 million) fortune as he turns 18 on Monday, but he insists the money won't cast a spell on him. Daniel Radcliffe as Harry Potter in \"Harry Potter and the Order of the Phoenix\" To the disappointment of gossip columnists around the world, the young actor says he has no plans to fritter his cash away on fast cars, drink and celebrity parties. \"I don't plan to be one of those people who, as soon as they turn 18, suddenly buy themselves a massive sports car collection or something similar,\" he told an Australian interviewer earlier this month. \"I don't think I'll be particularly extravagant. \"The things I like buying are things that cost about 10 pounds -- books and CDs and DVDs.\" At 18, Radcliffe will be able to gamble in a casino, buy a drink in a pub or see the horror film \"Hostel: Part II,\" currently six places below his number one movie on the UK box office chart. Details of how he'll mark his landmark birthday are under wraps. His agent and publicist had no comment on his plans. \"I'll definitely have some sort of party,\" he said in an interview. \"Hopefully none of you will be reading about it.\" Radcliffe's earnings from the first five Potter films have been held in a trust fund which he has not been able to touch. Despite his growing fame and riches, the actor says he is keeping his feet firmly on the ground. \"People are always looking to say 'kid star goes off the rails,'\" he told reporters last month. \"But I try very hard not to go that way because it would be too easy for them.\" His latest outing as the boy wizard in \"Harry Potter and the Order of the Phoenix\" is breaking records on both sides of the Atlantic and he will reprise the role in the last two films.  Watch I-Reporter give her review of Potter's latest » . There is life beyond Potter, however. The Londoner has filmed a TV movie called \"My Boy Jack,\" about author Rudyard Kipling and his son, due for release later this year. He will also appear in \"December Boys,\" an Australian film about four boys who escape an orphanage. Earlier this year, he made his stage debut playing a tortured teenager in Peter Shaffer's \"Equus.\" Meanwhile, he is braced for even closer media scrutiny now that he's legally an adult: \"I just think I'm going to be more sort of fair game,\" he told Reuters. E-mail to a friend . Copyright 2007 Reuters. All rights reserved.This material may not be published, broadcast, rewritten, or redistributed.\n",
      "Human Summary: Harry Potter star Daniel Radcliffe gets £20M fortune as he turns 18 Monday .\n",
      "Young actor says he has no plans to fritter his cash away .\n",
      "Radcliffe's earnings from first five Potter films have been held in trust fund .\n"
     ]
    }
   ],
   "source": [
    "# Access the dataset splits\n",
    "train_data = dataset['train']\n",
    "validation_data = dataset['validation']\n",
    "test_data = dataset['test']\n",
    "\n",
    "# View a sample\n",
    "sample = train_data[0]\n",
    "print(\"Original Text:\", sample['article'])\n",
    "print(\"Human Summary:\", sample['highlights'])"
   ]
  },
  {
   "cell_type": "code",
   "execution_count": null,
   "metadata": {},
   "outputs": [],
   "source": [
    "# Load the summarization pipeline with a pretrained model\n",
    "summarization_pipeline = pipeline(\"summarization\", model=\"facebook/bart-large-cnn\")\n",
    "\n",
    "# Perform abstractive summarization on a single sample\n",
    "article = sample['article']  # Use the article text from the dataset\n",
    "abstractive_summary = summarization_pipeline(article, max_length=130, min_length=30, do_sample=False)\n",
    "\n",
    "print(\"Abstractive Summary:\", abstractive_summary[0]['summary_text'])"
   ]
  },
  {
   "cell_type": "code",
   "execution_count": 6,
   "metadata": {},
   "outputs": [],
   "source": [
    "# Load GPT-2 model and tokenizer\n",
    "tokenizer = GPT2Tokenizer.from_pretrained(\"gpt2\")\n",
    "model = GPT2LMHeadModel.from_pretrained(\"gpt2\")\n",
    "\n",
    "# Add padding token (GPT-2 doesn't have one by default)\n",
    "tokenizer.pad_token = tokenizer.eos_token"
   ]
  },
  {
   "cell_type": "markdown",
   "metadata": {},
   "source": [
    "### Abstractive"
   ]
  },
  {
   "cell_type": "code",
   "execution_count": 34,
   "metadata": {},
   "outputs": [],
   "source": [
    "def generate_abstractive_summary(article, max_new_tokens=150):\n",
    "    # Create a summarization prompt\n",
    "    prompt = f\"Summarize the following article:\\n\\n{article}\\n\\nSummary:\"\n",
    "    \n",
    "    # Tokenize the prompt\n",
    "    inputs = tokenizer.encode(prompt, return_tensors=\"pt\", max_length=1024, truncation=True)\n",
    "    \n",
    "    # Generate summary\n",
    "    outputs = model.generate(\n",
    "        inputs, \n",
    "        max_new_tokens=max_new_tokens,  # Specify the number of tokens to generate\n",
    "        num_return_sequences=1, \n",
    "        no_repeat_ngram_size=2,\n",
    "        temperature=0.7,\n",
    "        top_k=50,\n",
    "        top_p=0.95,\n",
    "        pad_token_id=tokenizer.eos_token_id\n",
    "    )\n",
    "    \n",
    "    # Decode the generated summary\n",
    "    summary = tokenizer.decode(outputs[0], skip_special_tokens=True)\n",
    "    return summary.split(\"Summary:\")[-1].strip()\n",
    "\n",
    "# Test the function with a sample article\n",
    "abstractive_summary = generate_abstractive_summary(sample['article'])\n",
    "print(\"Abstractive Summary:\", abstractive_summary)\n"
   ]
  },
  {
   "cell_type": "markdown",
   "metadata": {},
   "source": [
    "### Extractive"
   ]
  },
  {
   "cell_type": "code",
   "execution_count": 59,
   "metadata": {},
   "outputs": [
    {
     "name": "stdout",
     "output_type": "stream",
     "text": [
      "Extractive Summary: \"As the Rome Statute today enters into force for the State of Palestine, Palestine acquires all the rights as well as responsibilities that come with being a State Party to the Statute. \"What's objectionable is the attempts to undermine international justice, not Palestine's decision to join a treaty to which over 100 countries around the world are members.\" \"As we have said repeatedly, we do not believe that Palestine is a state and therefore we do not believe that it is eligible to join the ICC,\" the State Department said in a statement.\n"
     ]
    }
   ],
   "source": [
    "def generate_extractive_summary(article, num_sentences=3):\n",
    "\n",
    "    # Parse the input text\n",
    "    parser = PlaintextParser.from_string(article, Tokenizer(\"english\"))\n",
    "\n",
    "    # Initialize the LexRank summarizer\n",
    "    summarizer = LexRankSummarizer()\n",
    "\n",
    "    # Generate a summary with 3 sentences\n",
    "    summary = summarizer(parser.document, num_sentences)\n",
    "\n",
    "    # Extract text from Sentence objects\n",
    "    summary_text = \" \".join([str(sentence) for sentence in summary])\n",
    "    return summary_text\n",
    "\n",
    "# Test the function with a sample article\n",
    "extractive_summary = generate_extractive_summary(sample['article'])\n",
    "print(\"Extractive Summary:\", extractive_summary)"
   ]
  },
  {
   "cell_type": "code",
   "execution_count": 60,
   "metadata": {},
   "outputs": [
    {
     "name": "stdout",
     "output_type": "stream",
     "text": [
      "ROUGE Scores (Abstractive): {'rouge1': Score(precision=0.20754716981132076, recall=0.3235294117647059, fmeasure=0.25287356321839083), 'rouge2': Score(precision=0.019230769230769232, recall=0.030303030303030304, fmeasure=0.023529411764705882), 'rougeL': Score(precision=0.11320754716981132, recall=0.17647058823529413, fmeasure=0.13793103448275862)}\n",
      "ROUGE Scores (Extractive): {'rouge1': Score(precision=0.11578947368421053, recall=0.3235294117647059, fmeasure=0.17054263565891473), 'rouge2': Score(precision=0.010638297872340425, recall=0.030303030303030304, fmeasure=0.015748031496062992), 'rougeL': Score(precision=0.07368421052631578, recall=0.20588235294117646, fmeasure=0.10852713178294572)}\n"
     ]
    }
   ],
   "source": [
    "# Initialize ROUGE scorer\n",
    "scorer = rouge_scorer.RougeScorer(['rouge1', 'rouge2', 'rougeL'], use_stemmer=True)\n",
    "\n",
    "# Evaluate the abstractive summary\n",
    "rouge_scores = scorer.score(sample['highlights'], abstractive_summary)\n",
    "print(\"ROUGE Scores (Abstractive):\", rouge_scores)\n",
    "\n",
    "# Evaluate the extractive summary\n",
    "rouge_scores_extractive = scorer.score(sample['highlights'], extractive_summary)\n",
    "print(\"ROUGE Scores (Extractive):\", rouge_scores_extractive)\n"
   ]
  },
  {
   "cell_type": "code",
   "execution_count": 66,
   "metadata": {},
   "outputs": [],
   "source": [
    "def is_valid_input(article, max_tokens=1024):\n",
    "    \"\"\"\n",
    "    Check if the tokenized input is valid for the model.\n",
    "    \"\"\"\n",
    "    prompt = f\"Summarize the following article:\\n\\n{article[:800]}\\n\\nSummary:\"\n",
    "    inputs = tokenizer.encode(prompt, truncation=True)\n",
    "    return len(inputs) <= max_tokens\n",
    "\n",
    "def truncate_article(article, max_tokens=1024):\n",
    "    prompt_prefix = \"Summarize the following article:\\n\\n\"\n",
    "    prompt_suffix = \"\\n\\nSummary:\"\n",
    "    \n",
    "    # Calculate space for the article\n",
    "    prompt_length = len(tokenizer.encode(prompt_prefix + prompt_suffix, truncation=True))\n",
    "    available_space = max_tokens - prompt_length\n",
    "    \n",
    "    # Truncate article\n",
    "    return article[:available_space]"
   ]
  },
  {
   "cell_type": "code",
   "execution_count": 68,
   "metadata": {},
   "outputs": [
    {
     "name": "stdout",
     "output_type": "stream",
     "text": [
      "Processing sample 1...\n"
     ]
    },
    {
     "name": "stderr",
     "output_type": "stream",
     "text": [
      "/Users/cartermondy/Library/Python/3.9/lib/python/site-packages/transformers/generation/configuration_utils.py:590: UserWarning: `do_sample` is set to `False`. However, `temperature` is set to `0.7` -- this flag is only used in sample-based generation modes. You should set `do_sample=True` or unset `temperature`.\n",
      "  warnings.warn(\n",
      "/Users/cartermondy/Library/Python/3.9/lib/python/site-packages/transformers/generation/configuration_utils.py:595: UserWarning: `do_sample` is set to `False`. However, `top_p` is set to `0.95` -- this flag is only used in sample-based generation modes. You should set `do_sample=True` or unset `top_p`.\n",
      "  warnings.warn(\n"
     ]
    },
    {
     "name": "stdout",
     "output_type": "stream",
     "text": [
      "Processing sample 2...\n",
      "Processing sample 3...\n",
      "Processing sample 4...\n",
      "Processing sample 5...\n",
      "Processing sample 6...\n",
      "Processing sample 7...\n",
      "Processing sample 8...\n",
      "Processing sample 9...\n",
      "Processing sample 10...\n"
     ]
    }
   ],
   "source": [
    "results = []\n",
    "\n",
    "for i, sample in enumerate(dataset['test'].select(range(10))):  # Process the first 8 samples\n",
    "    print(f\"Processing sample {i + 1}...\")\n",
    "    article = sample['article']\n",
    "    human_summary = sample['highlights']\n",
    "    \n",
    "    # Validate and truncate article\n",
    "    if not is_valid_input(article):\n",
    "        print(f\"Skipping sample {i + 1}: Input too long.\")\n",
    "        continue\n",
    "    \n",
    "    truncated_article = truncate_article(article)\n",
    "    \n",
    "    try:\n",
    "        # Generate summaries\n",
    "        abstractive_summary = generate_abstractive_summary(truncated_article)\n",
    "        extractive_summary = generate_extractive_summary(truncated_article, num_sentences=3)\n",
    "    except IndexError as e:\n",
    "        print(f\"Error processing sample {i + 1}: {e}\")\n",
    "        abstractive_summary = \"Error in abstractive summarization\"\n",
    "        extractive_summary = \"Error in extractive summarization\"\n",
    "        continue  # Optionally skip adding failed samples\n",
    "\n",
    "    # Evaluate summaries\n",
    "    rouge_abstractive = scorer.score(human_summary, abstractive_summary)\n",
    "    rouge_extractive = scorer.score(human_summary, extractive_summary)\n",
    "    \n",
    "    # Flatten ROUGE scores\n",
    "    rouge_abstractive_flat = {f\"abstractive_{k}\": v.fmeasure for k, v in rouge_abstractive.items()}\n",
    "    rouge_extractive_flat = {f\"extractive_{k}\": v.fmeasure for k, v in rouge_extractive.items()}\n",
    "    \n",
    "    # Store results\n",
    "    results.append({\n",
    "        \"article\": article,\n",
    "        \"human_summary\": human_summary,\n",
    "        \"abstractive_summary\": abstractive_summary,\n",
    "        \"extractive_summary\": extractive_summary,\n",
    "        **rouge_abstractive_flat,\n",
    "        **rouge_extractive_flat\n",
    "    })\n",
    "\n",
    "\n",
    "df = pd.DataFrame(results)\n",
    "# df.to_csv(\"gpt2_summarization_results.csv\", index=False)\n",
    "# print(\"Results saved to 'gpt2_summarization_results.csv'.\")"
   ]
  },
  {
   "cell_type": "code",
   "execution_count": 71,
   "metadata": {},
   "outputs": [
    {
     "data": {
      "text/html": [
       "<div>\n",
       "<style scoped>\n",
       "    .dataframe tbody tr th:only-of-type {\n",
       "        vertical-align: middle;\n",
       "    }\n",
       "\n",
       "    .dataframe tbody tr th {\n",
       "        vertical-align: top;\n",
       "    }\n",
       "\n",
       "    .dataframe thead th {\n",
       "        text-align: right;\n",
       "    }\n",
       "</style>\n",
       "<table border=\"1\" class=\"dataframe\">\n",
       "  <thead>\n",
       "    <tr style=\"text-align: right;\">\n",
       "      <th></th>\n",
       "      <th>article</th>\n",
       "      <th>human_summary</th>\n",
       "      <th>abstractive_summary</th>\n",
       "      <th>extractive_summary</th>\n",
       "      <th>abstractive_rouge1</th>\n",
       "      <th>abstractive_rouge2</th>\n",
       "      <th>abstractive_rougeL</th>\n",
       "      <th>extractive_rouge1</th>\n",
       "      <th>extractive_rouge2</th>\n",
       "      <th>extractive_rougeL</th>\n",
       "    </tr>\n",
       "  </thead>\n",
       "  <tbody>\n",
       "    <tr>\n",
       "      <th>0</th>\n",
       "      <td>(CNN)The Palestinian Authority officially beca...</td>\n",
       "      <td>Membership gives the ICC jurisdiction over all...</td>\n",
       "      <td>The Palestinian government has formally become...</td>\n",
       "      <td>(CNN)The Palestinian Authority officially beca...</td>\n",
       "      <td>0.139535</td>\n",
       "      <td>0.000000</td>\n",
       "      <td>0.139535</td>\n",
       "      <td>0.295652</td>\n",
       "      <td>0.159292</td>\n",
       "      <td>0.226087</td>\n",
       "    </tr>\n",
       "    <tr>\n",
       "      <th>1</th>\n",
       "      <td>(CNN)Never mind cats having nine lives. A stra...</td>\n",
       "      <td>Theia, a bully breed mix, was apparently hit b...</td>\n",
       "      <td>The dog was a mix of white and black, and was ...</td>\n",
       "      <td>(CNN)Never mind cats having nine lives. A stra...</td>\n",
       "      <td>0.240000</td>\n",
       "      <td>0.027027</td>\n",
       "      <td>0.146667</td>\n",
       "      <td>0.390244</td>\n",
       "      <td>0.165289</td>\n",
       "      <td>0.292683</td>\n",
       "    </tr>\n",
       "    <tr>\n",
       "      <th>2</th>\n",
       "      <td>(CNN)If you've been following the news lately,...</td>\n",
       "      <td>Mohammad Javad Zarif has spent more time with ...</td>\n",
       "      <td>The Islamic Republic of Iran has agreed to a d...</td>\n",
       "      <td>(CNN)If you've been following the news lately,...</td>\n",
       "      <td>0.097561</td>\n",
       "      <td>0.012346</td>\n",
       "      <td>0.085366</td>\n",
       "      <td>0.125000</td>\n",
       "      <td>0.051282</td>\n",
       "      <td>0.100000</td>\n",
       "    </tr>\n",
       "    <tr>\n",
       "      <th>3</th>\n",
       "      <td>(CNN)Five Americans who were monitored for thr...</td>\n",
       "      <td>17 Americans were exposed to the Ebola virus w...</td>\n",
       "      <td>The U.S. Centers and the U, the world's larges...</td>\n",
       "      <td>The others have already gone home. They were e...</td>\n",
       "      <td>0.202381</td>\n",
       "      <td>0.012048</td>\n",
       "      <td>0.119048</td>\n",
       "      <td>0.439560</td>\n",
       "      <td>0.134831</td>\n",
       "      <td>0.329670</td>\n",
       "    </tr>\n",
       "    <tr>\n",
       "      <th>4</th>\n",
       "      <td>(CNN)A Duke student has admitted to hanging a ...</td>\n",
       "      <td>Student is no longer on Duke University campus...</td>\n",
       "      <td>The Duke University Police Department is inves...</td>\n",
       "      <td>(CNN)A Duke student has admitted to hanging a ...</td>\n",
       "      <td>0.262295</td>\n",
       "      <td>0.033898</td>\n",
       "      <td>0.131148</td>\n",
       "      <td>0.377778</td>\n",
       "      <td>0.113636</td>\n",
       "      <td>0.222222</td>\n",
       "    </tr>\n",
       "    <tr>\n",
       "      <th>5</th>\n",
       "      <td>(CNN)He's a blue chip college basketball recru...</td>\n",
       "      <td>College-bound basketball star asks girl with D...</td>\n",
       "      <td>Trey was a freshman at Western High in Kentuck...</td>\n",
       "      <td>Trey -- a star on Eastern High School's basket...</td>\n",
       "      <td>0.164179</td>\n",
       "      <td>0.030303</td>\n",
       "      <td>0.074627</td>\n",
       "      <td>0.250000</td>\n",
       "      <td>0.023256</td>\n",
       "      <td>0.136364</td>\n",
       "    </tr>\n",
       "    <tr>\n",
       "      <th>6</th>\n",
       "      <td>(CNN)Governments around the world are using th...</td>\n",
       "      <td>Amnesty's annual death penalty report catalogs...</td>\n",
       "      <td>The United States has used death sentences to ...</td>\n",
       "      <td>(CNN)Governments around the world are using th...</td>\n",
       "      <td>0.236686</td>\n",
       "      <td>0.023952</td>\n",
       "      <td>0.118343</td>\n",
       "      <td>0.396396</td>\n",
       "      <td>0.220183</td>\n",
       "      <td>0.270270</td>\n",
       "    </tr>\n",
       "    <tr>\n",
       "      <th>7</th>\n",
       "      <td>(CNN)Andrew Getty, one of the heirs to billion...</td>\n",
       "      <td>Andrew Getty's death appears to be from natura...</td>\n",
       "      <td>The family of Andrew Andrew, who was born in 1...</td>\n",
       "      <td>The coroner's preliminary assessment is there ...</td>\n",
       "      <td>0.139535</td>\n",
       "      <td>0.035294</td>\n",
       "      <td>0.093023</td>\n",
       "      <td>0.227273</td>\n",
       "      <td>0.046154</td>\n",
       "      <td>0.121212</td>\n",
       "    </tr>\n",
       "    <tr>\n",
       "      <th>8</th>\n",
       "      <td>(CNN)Filipinos are being warned to be on guard...</td>\n",
       "      <td>Once a super typhoon, Maysak is now a tropical...</td>\n",
       "      <td>The Philippines is facing a major storm surge ...</td>\n",
       "      <td>(CNN)Filipinos are being warned to be on guard...</td>\n",
       "      <td>0.312500</td>\n",
       "      <td>0.032258</td>\n",
       "      <td>0.312500</td>\n",
       "      <td>0.357143</td>\n",
       "      <td>0.121951</td>\n",
       "      <td>0.190476</td>\n",
       "    </tr>\n",
       "    <tr>\n",
       "      <th>9</th>\n",
       "      <td>(CNN)For the first time in eight years, a TV l...</td>\n",
       "      <td>Bob Barker returned to host \"The Price Is Righ...</td>\n",
       "      <td>The Price is Right is a show that has been aro...</td>\n",
       "      <td>(CNN)For the first time in eight years, a TV l...</td>\n",
       "      <td>0.137931</td>\n",
       "      <td>0.070588</td>\n",
       "      <td>0.114943</td>\n",
       "      <td>0.268657</td>\n",
       "      <td>0.123077</td>\n",
       "      <td>0.238806</td>\n",
       "    </tr>\n",
       "  </tbody>\n",
       "</table>\n",
       "</div>"
      ],
      "text/plain": [
       "                                             article  ... extractive_rougeL\n",
       "0  (CNN)The Palestinian Authority officially beca...  ...          0.226087\n",
       "1  (CNN)Never mind cats having nine lives. A stra...  ...          0.292683\n",
       "2  (CNN)If you've been following the news lately,...  ...          0.100000\n",
       "3  (CNN)Five Americans who were monitored for thr...  ...          0.329670\n",
       "4  (CNN)A Duke student has admitted to hanging a ...  ...          0.222222\n",
       "5  (CNN)He's a blue chip college basketball recru...  ...          0.136364\n",
       "6  (CNN)Governments around the world are using th...  ...          0.270270\n",
       "7  (CNN)Andrew Getty, one of the heirs to billion...  ...          0.121212\n",
       "8  (CNN)Filipinos are being warned to be on guard...  ...          0.190476\n",
       "9  (CNN)For the first time in eight years, a TV l...  ...          0.238806\n",
       "\n",
       "[10 rows x 10 columns]"
      ]
     },
     "execution_count": 71,
     "metadata": {},
     "output_type": "execute_result"
    }
   ],
   "source": [
    "df"
   ]
  },
  {
   "cell_type": "code",
   "execution_count": null,
   "metadata": {},
   "outputs": [],
   "source": []
  }
 ],
 "metadata": {
  "kernelspec": {
   "display_name": "Python 3",
   "language": "python",
   "name": "python3"
  },
  "language_info": {
   "codemirror_mode": {
    "name": "ipython",
    "version": 3
   },
   "file_extension": ".py",
   "mimetype": "text/x-python",
   "name": "python",
   "nbconvert_exporter": "python",
   "pygments_lexer": "ipython3",
   "version": "3.11.4"
  }
 },
 "nbformat": 4,
 "nbformat_minor": 2
}
